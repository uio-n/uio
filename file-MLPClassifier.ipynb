{
 "cells": [
  {
   "cell_type": "code",
   "execution_count": 2,
   "id": "caa9dcac",
   "metadata": {},
   "outputs": [],
   "source": [
    "from sklearn.neural_network import MLPClassifier"
   ]
  },
  {
   "cell_type": "code",
   "execution_count": 3,
   "id": "f7cb410e",
   "metadata": {},
   "outputs": [],
   "source": [
    "import numpy as np"
   ]
  },
  {
   "cell_type": "code",
   "execution_count": 6,
   "id": "0e57e631",
   "metadata": {},
   "outputs": [],
   "source": [
    "x_train = np.array([[1,1],[3,3],[6,6],[7,7],[9,9]])\n",
    "\n",
    "y_train = np.array([0,0,1,1,1])"
   ]
  },
  {
   "cell_type": "code",
   "execution_count": 12,
   "id": "6e8843a2",
   "metadata": {},
   "outputs": [],
   "source": [
    "model = MLPClassifier(hidden_layer_sizes=(8), max_iter =102 , alpha = 1e-4 , solver = 'sgd' , random_state=1\n",
    "                     , verbose=True, learning_rate_init=0.1)"
   ]
  },
  {
   "cell_type": "code",
   "execution_count": 13,
   "id": "a9867782",
   "metadata": {},
   "outputs": [
    {
     "name": "stdout",
     "output_type": "stream",
     "text": [
      "Iteration 1, loss = 0.77242729\n",
      "Iteration 2, loss = 0.68148155\n",
      "Iteration 3, loss = 0.62225463\n",
      "Iteration 4, loss = 0.59184064\n",
      "Iteration 5, loss = 0.55574346\n",
      "Iteration 6, loss = 0.52604574\n",
      "Iteration 7, loss = 0.49736578\n",
      "Iteration 8, loss = 0.46831510\n",
      "Iteration 9, loss = 0.43823781\n",
      "Iteration 10, loss = 0.40642844\n",
      "Iteration 11, loss = 0.37520567\n",
      "Iteration 12, loss = 0.34415212\n",
      "Iteration 13, loss = 0.31474519\n",
      "Iteration 14, loss = 0.28753417\n",
      "Iteration 15, loss = 0.26192975\n",
      "Iteration 16, loss = 0.23746029\n",
      "Iteration 17, loss = 0.21458947\n",
      "Iteration 18, loss = 0.19340743\n",
      "Iteration 19, loss = 0.17390211\n",
      "Iteration 20, loss = 0.15610620\n",
      "Iteration 21, loss = 0.13998697\n",
      "Iteration 22, loss = 0.12547184\n",
      "Iteration 23, loss = 0.11246640\n",
      "Iteration 24, loss = 0.10086182\n",
      "Iteration 25, loss = 0.09054159\n",
      "Iteration 26, loss = 0.08138709\n",
      "Iteration 27, loss = 0.07328203\n",
      "Iteration 28, loss = 0.06611547\n",
      "Iteration 29, loss = 0.05978374\n",
      "Iteration 30, loss = 0.05419142\n",
      "Iteration 31, loss = 0.04925177\n",
      "Iteration 32, loss = 0.04488671\n",
      "Iteration 33, loss = 0.04102646\n",
      "Iteration 34, loss = 0.03760912\n",
      "Iteration 35, loss = 0.03457998\n",
      "Iteration 36, loss = 0.03189096\n",
      "Iteration 37, loss = 0.02949987\n",
      "Iteration 38, loss = 0.02736983\n",
      "Iteration 39, loss = 0.02546864\n",
      "Iteration 40, loss = 0.02376823\n",
      "Iteration 41, loss = 0.02224415\n",
      "Iteration 42, loss = 0.02087509\n",
      "Iteration 43, loss = 0.01964253\n",
      "Iteration 44, loss = 0.01853030\n",
      "Iteration 45, loss = 0.01752436\n",
      "Iteration 46, loss = 0.01661242\n",
      "Iteration 47, loss = 0.01578378\n",
      "Iteration 48, loss = 0.01502908\n",
      "Iteration 49, loss = 0.01434014\n",
      "Iteration 50, loss = 0.01370978\n",
      "Iteration 51, loss = 0.01313171\n",
      "Iteration 52, loss = 0.01260040\n",
      "Iteration 53, loss = 0.01211099\n",
      "Iteration 54, loss = 0.01165919\n",
      "Iteration 55, loss = 0.01124121\n",
      "Iteration 56, loss = 0.01085371\n",
      "Iteration 57, loss = 0.01049371\n",
      "Iteration 58, loss = 0.01015859\n",
      "Iteration 59, loss = 0.00984601\n",
      "Iteration 60, loss = 0.00955388\n",
      "Iteration 61, loss = 0.00928035\n",
      "Iteration 62, loss = 0.00902376\n",
      "Iteration 63, loss = 0.00878263\n",
      "Iteration 64, loss = 0.00855563\n",
      "Iteration 65, loss = 0.00834156\n",
      "Iteration 66, loss = 0.00813935\n",
      "Iteration 67, loss = 0.00794804\n",
      "Iteration 68, loss = 0.00776676\n",
      "Iteration 69, loss = 0.00759472\n",
      "Iteration 70, loss = 0.00743122\n",
      "Iteration 71, loss = 0.00727560\n",
      "Iteration 72, loss = 0.00712729\n",
      "Iteration 73, loss = 0.00698576\n",
      "Iteration 74, loss = 0.00685053\n",
      "Iteration 75, loss = 0.00672115\n",
      "Iteration 76, loss = 0.00659723\n",
      "Iteration 77, loss = 0.00647841\n",
      "Iteration 78, loss = 0.00636434\n",
      "Iteration 79, loss = 0.00625473\n",
      "Iteration 80, loss = 0.00614930\n",
      "Iteration 81, loss = 0.00604778\n",
      "Iteration 82, loss = 0.00594995\n",
      "Iteration 83, loss = 0.00585559\n",
      "Iteration 84, loss = 0.00576449\n",
      "Iteration 85, loss = 0.00567647\n",
      "Iteration 86, loss = 0.00559136\n",
      "Iteration 87, loss = 0.00550901\n",
      "Iteration 88, loss = 0.00542926\n",
      "Iteration 89, loss = 0.00535198\n",
      "Iteration 90, loss = 0.00527705\n",
      "Iteration 91, loss = 0.00520435\n",
      "Iteration 92, loss = 0.00513378\n",
      "Training loss did not improve more than tol=0.000100 for 10 consecutive epochs. Stopping.\n"
     ]
    },
    {
     "data": {
      "text/html": [
       "<style>#sk-container-id-1 {color: black;}#sk-container-id-1 pre{padding: 0;}#sk-container-id-1 div.sk-toggleable {background-color: white;}#sk-container-id-1 label.sk-toggleable__label {cursor: pointer;display: block;width: 100%;margin-bottom: 0;padding: 0.3em;box-sizing: border-box;text-align: center;}#sk-container-id-1 label.sk-toggleable__label-arrow:before {content: \"▸\";float: left;margin-right: 0.25em;color: #696969;}#sk-container-id-1 label.sk-toggleable__label-arrow:hover:before {color: black;}#sk-container-id-1 div.sk-estimator:hover label.sk-toggleable__label-arrow:before {color: black;}#sk-container-id-1 div.sk-toggleable__content {max-height: 0;max-width: 0;overflow: hidden;text-align: left;background-color: #f0f8ff;}#sk-container-id-1 div.sk-toggleable__content pre {margin: 0.2em;color: black;border-radius: 0.25em;background-color: #f0f8ff;}#sk-container-id-1 input.sk-toggleable__control:checked~div.sk-toggleable__content {max-height: 200px;max-width: 100%;overflow: auto;}#sk-container-id-1 input.sk-toggleable__control:checked~label.sk-toggleable__label-arrow:before {content: \"▾\";}#sk-container-id-1 div.sk-estimator input.sk-toggleable__control:checked~label.sk-toggleable__label {background-color: #d4ebff;}#sk-container-id-1 div.sk-label input.sk-toggleable__control:checked~label.sk-toggleable__label {background-color: #d4ebff;}#sk-container-id-1 input.sk-hidden--visually {border: 0;clip: rect(1px 1px 1px 1px);clip: rect(1px, 1px, 1px, 1px);height: 1px;margin: -1px;overflow: hidden;padding: 0;position: absolute;width: 1px;}#sk-container-id-1 div.sk-estimator {font-family: monospace;background-color: #f0f8ff;border: 1px dotted black;border-radius: 0.25em;box-sizing: border-box;margin-bottom: 0.5em;}#sk-container-id-1 div.sk-estimator:hover {background-color: #d4ebff;}#sk-container-id-1 div.sk-parallel-item::after {content: \"\";width: 100%;border-bottom: 1px solid gray;flex-grow: 1;}#sk-container-id-1 div.sk-label:hover label.sk-toggleable__label {background-color: #d4ebff;}#sk-container-id-1 div.sk-serial::before {content: \"\";position: absolute;border-left: 1px solid gray;box-sizing: border-box;top: 0;bottom: 0;left: 50%;z-index: 0;}#sk-container-id-1 div.sk-serial {display: flex;flex-direction: column;align-items: center;background-color: white;padding-right: 0.2em;padding-left: 0.2em;position: relative;}#sk-container-id-1 div.sk-item {position: relative;z-index: 1;}#sk-container-id-1 div.sk-parallel {display: flex;align-items: stretch;justify-content: center;background-color: white;position: relative;}#sk-container-id-1 div.sk-item::before, #sk-container-id-1 div.sk-parallel-item::before {content: \"\";position: absolute;border-left: 1px solid gray;box-sizing: border-box;top: 0;bottom: 0;left: 50%;z-index: -1;}#sk-container-id-1 div.sk-parallel-item {display: flex;flex-direction: column;z-index: 1;position: relative;background-color: white;}#sk-container-id-1 div.sk-parallel-item:first-child::after {align-self: flex-end;width: 50%;}#sk-container-id-1 div.sk-parallel-item:last-child::after {align-self: flex-start;width: 50%;}#sk-container-id-1 div.sk-parallel-item:only-child::after {width: 0;}#sk-container-id-1 div.sk-dashed-wrapped {border: 1px dashed gray;margin: 0 0.4em 0.5em 0.4em;box-sizing: border-box;padding-bottom: 0.4em;background-color: white;}#sk-container-id-1 div.sk-label label {font-family: monospace;font-weight: bold;display: inline-block;line-height: 1.2em;}#sk-container-id-1 div.sk-label-container {text-align: center;}#sk-container-id-1 div.sk-container {/* jupyter's `normalize.less` sets `[hidden] { display: none; }` but bootstrap.min.css set `[hidden] { display: none !important; }` so we also need the `!important` here to be able to override the default hidden behavior on the sphinx rendered scikit-learn.org. See: https://github.com/scikit-learn/scikit-learn/issues/21755 */display: inline-block !important;position: relative;}#sk-container-id-1 div.sk-text-repr-fallback {display: none;}</style><div id=\"sk-container-id-1\" class=\"sk-top-container\"><div class=\"sk-text-repr-fallback\"><pre>MLPClassifier(hidden_layer_sizes=8, learning_rate_init=0.1, max_iter=102,\n",
       "              random_state=1, solver=&#x27;sgd&#x27;, verbose=True)</pre><b>In a Jupyter environment, please rerun this cell to show the HTML representation or trust the notebook. <br />On GitHub, the HTML representation is unable to render, please try loading this page with nbviewer.org.</b></div><div class=\"sk-container\" hidden><div class=\"sk-item\"><div class=\"sk-estimator sk-toggleable\"><input class=\"sk-toggleable__control sk-hidden--visually\" id=\"sk-estimator-id-1\" type=\"checkbox\" checked><label for=\"sk-estimator-id-1\" class=\"sk-toggleable__label sk-toggleable__label-arrow\">MLPClassifier</label><div class=\"sk-toggleable__content\"><pre>MLPClassifier(hidden_layer_sizes=8, learning_rate_init=0.1, max_iter=102,\n",
       "              random_state=1, solver=&#x27;sgd&#x27;, verbose=True)</pre></div></div></div></div></div>"
      ],
      "text/plain": [
       "MLPClassifier(hidden_layer_sizes=8, learning_rate_init=0.1, max_iter=102,\n",
       "              random_state=1, solver='sgd', verbose=True)"
      ]
     },
     "execution_count": 13,
     "metadata": {},
     "output_type": "execute_result"
    }
   ],
   "source": [
    "model.fit(x_train,y_train)"
   ]
  },
  {
   "cell_type": "code",
   "execution_count": 14,
   "id": "d165213e",
   "metadata": {},
   "outputs": [
    {
     "data": {
      "text/plain": [
       "1.0"
      ]
     },
     "execution_count": 14,
     "metadata": {},
     "output_type": "execute_result"
    }
   ],
   "source": [
    "model.score(x_train,y_train)"
   ]
  },
  {
   "cell_type": "code",
   "execution_count": 15,
   "id": "23331306",
   "metadata": {},
   "outputs": [],
   "source": [
    "x_test = np.array([[2,2],[0,0],[11,11]])\n",
    "y_test = np.array([0,0,1])"
   ]
  },
  {
   "cell_type": "code",
   "execution_count": 17,
   "id": "b16a7111",
   "metadata": {},
   "outputs": [
    {
     "data": {
      "text/plain": [
       "array([0, 0, 1])"
      ]
     },
     "execution_count": 17,
     "metadata": {},
     "output_type": "execute_result"
    }
   ],
   "source": [
    "y_pred = model.predict(x_test)\n",
    "y_pred"
   ]
  },
  {
   "cell_type": "code",
   "execution_count": 18,
   "id": "4b95b4f6",
   "metadata": {},
   "outputs": [
    {
     "data": {
      "text/plain": [
       "1.0"
      ]
     },
     "execution_count": 18,
     "metadata": {},
     "output_type": "execute_result"
    }
   ],
   "source": [
    "model.score(x_test,y_test)"
   ]
  },
  {
   "cell_type": "code",
   "execution_count": null,
   "id": "61cb79b6",
   "metadata": {},
   "outputs": [],
   "source": []
  },
  {
   "cell_type": "code",
   "execution_count": null,
   "id": "1848fd66",
   "metadata": {},
   "outputs": [],
   "source": []
  }
 ],
 "metadata": {
  "kernelspec": {
   "display_name": "Python 3 (ipykernel)",
   "language": "python",
   "name": "python3"
  },
  "language_info": {
   "codemirror_mode": {
    "name": "ipython",
    "version": 3
   },
   "file_extension": ".py",
   "mimetype": "text/x-python",
   "name": "python",
   "nbconvert_exporter": "python",
   "pygments_lexer": "ipython3",
   "version": "3.11.5"
  }
 },
 "nbformat": 4,
 "nbformat_minor": 5
}
